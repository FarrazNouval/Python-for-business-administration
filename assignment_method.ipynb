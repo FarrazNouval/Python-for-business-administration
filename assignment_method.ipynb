{
  "nbformat": 4,
  "nbformat_minor": 0,
  "metadata": {
    "colab": {
      "provenance": [],
      "authorship_tag": "ABX9TyPxOGRnANvGeWggjizvWH2H",
      "include_colab_link": true
    },
    "kernelspec": {
      "name": "python3",
      "display_name": "Python 3"
    },
    "language_info": {
      "name": "python"
    }
  },
  "cells": [
    {
      "cell_type": "markdown",
      "metadata": {
        "id": "view-in-github",
        "colab_type": "text"
      },
      "source": [
        "<a href=\"https://colab.research.google.com/github/FarrazNouval/Python-for-production-and-operation-management/blob/main/assignment_method.ipynb\" target=\"_parent\"><img src=\"https://colab.research.google.com/assets/colab-badge.svg\" alt=\"Open In Colab\"/></a>"
      ]
    },
    {
      "cell_type": "markdown",
      "source": [
        "![assignment method 2.PNG](data:image/png;base64,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)"
      ],
      "metadata": {
        "id": "aABhmr7OHIH1"
      }
    },
    {
      "cell_type": "markdown",
      "source": [
        "The image above is a table that shows how long each machine takes to complete each request. And the problem is figuring out how to assign each request to machines so that we can complete them all effectively and efficiently."
      ],
      "metadata": {
        "id": "JgzOsv26HZYj"
      }
    },
    {
      "cell_type": "code",
      "execution_count": 1,
      "metadata": {
        "id": "9gtJdQ7NeR-7"
      },
      "outputs": [],
      "source": [
        "import numpy as np\n",
        "import pandas as pd"
      ]
    },
    {
      "cell_type": "code",
      "source": [
        "arr = [\n",
        "    [12, 18, 22],\n",
        "    [22, 26, 18],\n",
        "    [12, 8, 18],\n",
        "    [18, 24, 27],\n",
        "    [18, 20, 24],\n",
        "    [15, 22, 20],\n",
        "    [13, 11, 17],\n",
        "    [10, 8, 12]\n",
        "    ]\n",
        "\n",
        "x = np.array(arr)\n"
      ],
      "metadata": {
        "id": "mghTtrDLeWdi"
      },
      "execution_count": 2,
      "outputs": []
    },
    {
      "cell_type": "markdown",
      "source": [
        "Let's try to solve it by hand.\n",
        "1. Determine the maximum and actual work times (start from zero).\n",
        "2. Examine each request (row) to find which machine can do it the fastest.\n",
        "3. Add up the actual and minimal work hours in that row.\n",
        "4. Save the sum if it is less than or equal to the maximum work time.\n",
        "5. If the sum is greater than the maximum work time, check the second faster, and so on.\n",
        "\n"
      ],
      "metadata": {
        "id": "0kjFbTnHJqq2"
      }
    },
    {
      "cell_type": "code",
      "source": [
        "# declare the maximum work time\n",
        "max_time = 40 \n",
        "\n",
        "# declare the actual work time\n",
        "times = {'1':0.0,\n",
        "         '2':0.0,\n",
        "         '3':0.0}\n",
        "\n",
        "# declare the variable to save the request and machine combination \n",
        "machines = {'1':[],\n",
        "            '2':[],\n",
        "            '3':[]}\n",
        "\n",
        "for i in range(len(x)):\n",
        "\n",
        "  while True:\n",
        "    row_elements = x[i] # capture times to finish the request\n",
        "    min_idx = np.argmin(row_elements) # capture the index of the minimum time (capture the machine)\n",
        "\n",
        "    # check if the sum is lower than or equal to max work time\n",
        "    if row_elements[min_idx] + times[str(min_idx + 1)] <= max_time:\n",
        "      # if true sum up actual work time and work time\n",
        "      times[str(min_idx + 1)] += row_elements[min_idx]\n",
        "      # append the request number to the machine\n",
        "      machines[str(min_idx + 1)].append(i + 1)\n",
        "      break\n",
        "\n",
        "    else:\n",
        "      # if the sum is higher than max work time\n",
        "      row_elements[min_idx] = 999 # change the work time to 999 so we can find the next faster time\n",
        "      "
      ],
      "metadata": {
        "id": "xozzPxHtgW-b"
      },
      "execution_count": 10,
      "outputs": []
    },
    {
      "cell_type": "code",
      "source": [
        "times\n"
      ],
      "metadata": {
        "colab": {
          "base_uri": "https://localhost:8080/"
        },
        "id": "wG6IUPl-VDWe",
        "outputId": "a9f8c1e2-d724-4d6d-9f6b-979ae4bb7133"
      },
      "execution_count": 11,
      "outputs": [
        {
          "output_type": "execute_result",
          "data": {
            "text/plain": [
              "{'1': 40.0, '2': 39.0, '3': 38.0}"
            ]
          },
          "metadata": {},
          "execution_count": 11
        }
      ]
    },
    {
      "cell_type": "code",
      "source": [
        "machines"
      ],
      "metadata": {
        "colab": {
          "base_uri": "https://localhost:8080/"
        },
        "id": "rMeIbcx2VHiY",
        "outputId": "15165dc6-05f0-4e6c-ebbd-96a7c4722d49"
      },
      "execution_count": 12,
      "outputs": [
        {
          "output_type": "execute_result",
          "data": {
            "text/plain": [
              "{'1': [1, 4, 8], '2': [3, 5, 7], '3': [2, 6]}"
            ]
          },
          "metadata": {},
          "execution_count": 12
        }
      ]
    },
    {
      "cell_type": "markdown",
      "source": [
        "Now let's solve it using the OOP approach."
      ],
      "metadata": {
        "id": "HndJBsZlVMqk"
      }
    },
    {
      "cell_type": "code",
      "source": [
        "class AssignmentMethod2:\n",
        "  def __init__(self, arr, max_time):\n",
        "    self.arr = arr\n",
        "    self.arr_cp = arr.copy()\n",
        "    self.max_time = max_time\n",
        "    self.times = {str(i + 1):0 for i in range(arr.shape[1])}\n",
        "    self.times_arr = {str(i + 1):[] for i in range(arr.shape[1])}\n",
        "    self.machines = {str(i + 1):[] for i in range(arr.shape[1])}\n",
        "  \n",
        "  def process(self):\n",
        "    for i in range(len(self.arr_cp)):\n",
        "\n",
        "      while True:\n",
        "\n",
        "        row_elements = self.arr_cp[i]\n",
        "        min_idx = np.argmin(row_elements)\n",
        "\n",
        "        if row_elements[min_idx] + self.times[str(min_idx + 1)] <= self.max_time:\n",
        "          self.times[str(min_idx + 1)] += row_elements[min_idx]\n",
        "          self.times_arr[str(min_idx + 1)].append(row_elements[min_idx])\n",
        "          self.machines[str(min_idx + 1)].append(i + 1)\n",
        "          break\n",
        "        \n",
        "        else:\n",
        "          row_elements[min_idx] = 9999\n",
        "  \n",
        "  def show_times_table(self):\n",
        "    max_element_length = 0\n",
        "\n",
        "    # capture the max length of columns\n",
        "    for i in self.times_arr.keys():\n",
        "      if len(self.times_arr[i]) > max_element_length:\n",
        "        max_element_length = len(self.times_arr[i])\n",
        "    \n",
        "    # if the column length is lower than the max length\n",
        "    # then fill it with 0 till the length is equal to max element length variable\n",
        "    for i in self.times_arr.keys():\n",
        "      if len(self.times_arr[i]) < max_element_length:\n",
        "        selisih = max_element_length - len(self.times_arr[i])\n",
        "        for j in range(selisih, max_element_length - 1):\n",
        "          self.times_arr[i].append(0)\n",
        "\n",
        "    # visualize the table using pandas\n",
        "    times_table = pd.DataFrame(self.times_arr)\n",
        "    times_table.index = [''] * len(times_table)\n",
        "    total_times = pd.DataFrame(self.times, index=['Total'])\n",
        "    times_table = pd.concat([times_table, total_times], axis=0)\n",
        "    times_table.columns = times_table.columns.map(lambda x: 'machine ' + x)\n",
        "    return times_table\n",
        "  \n",
        "  def show_machines_table(self):\n",
        "    max_element_length = 0\n",
        "\n",
        "    for i in self.machines.keys():\n",
        "      if len(self.machines[i]) > max_element_length:\n",
        "        max_element_length = len(self.machines[i])\n",
        "    \n",
        "    for i in self.machines.keys():\n",
        "      if len(self.machines[i]) < max_element_length:\n",
        "        selisih = max_element_length - len(self.machines[i])\n",
        "        for j in range(selisih, max_element_length - 1):\n",
        "          self.machines[i].append(0)\n",
        "    \n",
        "    machine_table = pd.DataFrame(self.machines)\n",
        "    machine_table.columns = machine_table.columns.map(lambda x: 'machine ' + x)\n",
        "    machine_table.index = [''] * len(machine_table)\n",
        "    return machine_table\n",
        "\n"
      ],
      "metadata": {
        "id": "wnRLIHKwuL_X"
      },
      "execution_count": 6,
      "outputs": []
    },
    {
      "cell_type": "code",
      "source": [
        "testing = AssignmentMethod2(x, 40)\n",
        "testing.process()\n"
      ],
      "metadata": {
        "id": "1HCQZptw0AGj"
      },
      "execution_count": 7,
      "outputs": []
    },
    {
      "cell_type": "code",
      "source": [
        "testing.show_times_table()"
      ],
      "metadata": {
        "colab": {
          "base_uri": "https://localhost:8080/",
          "height": 175
        },
        "id": "Dztr9cFX0Mgq",
        "outputId": "343c0f15-61e6-44ad-c0c3-e9e36310b473"
      },
      "execution_count": 8,
      "outputs": [
        {
          "output_type": "execute_result",
          "data": {
            "text/plain": [
              "       machine 1  machine 2  machine 3\n",
              "              12          8         18\n",
              "              18         20         20\n",
              "              10         11          0\n",
              "Total         40         39         38"
            ],
            "text/html": [
              "\n",
              "  <div id=\"df-fcc958cd-9804-433e-a00d-779ee6083801\">\n",
              "    <div class=\"colab-df-container\">\n",
              "      <div>\n",
              "<style scoped>\n",
              "    .dataframe tbody tr th:only-of-type {\n",
              "        vertical-align: middle;\n",
              "    }\n",
              "\n",
              "    .dataframe tbody tr th {\n",
              "        vertical-align: top;\n",
              "    }\n",
              "\n",
              "    .dataframe thead th {\n",
              "        text-align: right;\n",
              "    }\n",
              "</style>\n",
              "<table border=\"1\" class=\"dataframe\">\n",
              "  <thead>\n",
              "    <tr style=\"text-align: right;\">\n",
              "      <th></th>\n",
              "      <th>machine 1</th>\n",
              "      <th>machine 2</th>\n",
              "      <th>machine 3</th>\n",
              "    </tr>\n",
              "  </thead>\n",
              "  <tbody>\n",
              "    <tr>\n",
              "      <th></th>\n",
              "      <td>12</td>\n",
              "      <td>8</td>\n",
              "      <td>18</td>\n",
              "    </tr>\n",
              "    <tr>\n",
              "      <th></th>\n",
              "      <td>18</td>\n",
              "      <td>20</td>\n",
              "      <td>20</td>\n",
              "    </tr>\n",
              "    <tr>\n",
              "      <th></th>\n",
              "      <td>10</td>\n",
              "      <td>11</td>\n",
              "      <td>0</td>\n",
              "    </tr>\n",
              "    <tr>\n",
              "      <th>Total</th>\n",
              "      <td>40</td>\n",
              "      <td>39</td>\n",
              "      <td>38</td>\n",
              "    </tr>\n",
              "  </tbody>\n",
              "</table>\n",
              "</div>\n",
              "      <button class=\"colab-df-convert\" onclick=\"convertToInteractive('df-fcc958cd-9804-433e-a00d-779ee6083801')\"\n",
              "              title=\"Convert this dataframe to an interactive table.\"\n",
              "              style=\"display:none;\">\n",
              "        \n",
              "  <svg xmlns=\"http://www.w3.org/2000/svg\" height=\"24px\"viewBox=\"0 0 24 24\"\n",
              "       width=\"24px\">\n",
              "    <path d=\"M0 0h24v24H0V0z\" fill=\"none\"/>\n",
              "    <path d=\"M18.56 5.44l.94 2.06.94-2.06 2.06-.94-2.06-.94-.94-2.06-.94 2.06-2.06.94zm-11 1L8.5 8.5l.94-2.06 2.06-.94-2.06-.94L8.5 2.5l-.94 2.06-2.06.94zm10 10l.94 2.06.94-2.06 2.06-.94-2.06-.94-.94-2.06-.94 2.06-2.06.94z\"/><path d=\"M17.41 7.96l-1.37-1.37c-.4-.4-.92-.59-1.43-.59-.52 0-1.04.2-1.43.59L10.3 9.45l-7.72 7.72c-.78.78-.78 2.05 0 2.83L4 21.41c.39.39.9.59 1.41.59.51 0 1.02-.2 1.41-.59l7.78-7.78 2.81-2.81c.8-.78.8-2.07 0-2.86zM5.41 20L4 18.59l7.72-7.72 1.47 1.35L5.41 20z\"/>\n",
              "  </svg>\n",
              "      </button>\n",
              "      \n",
              "  <style>\n",
              "    .colab-df-container {\n",
              "      display:flex;\n",
              "      flex-wrap:wrap;\n",
              "      gap: 12px;\n",
              "    }\n",
              "\n",
              "    .colab-df-convert {\n",
              "      background-color: #E8F0FE;\n",
              "      border: none;\n",
              "      border-radius: 50%;\n",
              "      cursor: pointer;\n",
              "      display: none;\n",
              "      fill: #1967D2;\n",
              "      height: 32px;\n",
              "      padding: 0 0 0 0;\n",
              "      width: 32px;\n",
              "    }\n",
              "\n",
              "    .colab-df-convert:hover {\n",
              "      background-color: #E2EBFA;\n",
              "      box-shadow: 0px 1px 2px rgba(60, 64, 67, 0.3), 0px 1px 3px 1px rgba(60, 64, 67, 0.15);\n",
              "      fill: #174EA6;\n",
              "    }\n",
              "\n",
              "    [theme=dark] .colab-df-convert {\n",
              "      background-color: #3B4455;\n",
              "      fill: #D2E3FC;\n",
              "    }\n",
              "\n",
              "    [theme=dark] .colab-df-convert:hover {\n",
              "      background-color: #434B5C;\n",
              "      box-shadow: 0px 1px 3px 1px rgba(0, 0, 0, 0.15);\n",
              "      filter: drop-shadow(0px 1px 2px rgba(0, 0, 0, 0.3));\n",
              "      fill: #FFFFFF;\n",
              "    }\n",
              "  </style>\n",
              "\n",
              "      <script>\n",
              "        const buttonEl =\n",
              "          document.querySelector('#df-fcc958cd-9804-433e-a00d-779ee6083801 button.colab-df-convert');\n",
              "        buttonEl.style.display =\n",
              "          google.colab.kernel.accessAllowed ? 'block' : 'none';\n",
              "\n",
              "        async function convertToInteractive(key) {\n",
              "          const element = document.querySelector('#df-fcc958cd-9804-433e-a00d-779ee6083801');\n",
              "          const dataTable =\n",
              "            await google.colab.kernel.invokeFunction('convertToInteractive',\n",
              "                                                     [key], {});\n",
              "          if (!dataTable) return;\n",
              "\n",
              "          const docLinkHtml = 'Like what you see? Visit the ' +\n",
              "            '<a target=\"_blank\" href=https://colab.research.google.com/notebooks/data_table.ipynb>data table notebook</a>'\n",
              "            + ' to learn more about interactive tables.';\n",
              "          element.innerHTML = '';\n",
              "          dataTable['output_type'] = 'display_data';\n",
              "          await google.colab.output.renderOutput(dataTable, element);\n",
              "          const docLink = document.createElement('div');\n",
              "          docLink.innerHTML = docLinkHtml;\n",
              "          element.appendChild(docLink);\n",
              "        }\n",
              "      </script>\n",
              "    </div>\n",
              "  </div>\n",
              "  "
            ]
          },
          "metadata": {},
          "execution_count": 8
        }
      ]
    },
    {
      "cell_type": "code",
      "source": [
        "testing.show_machines_table()\n"
      ],
      "metadata": {
        "colab": {
          "base_uri": "https://localhost:8080/",
          "height": 143
        },
        "id": "7BXzzNaY2cHc",
        "outputId": "17c92b26-dd49-4697-ba3f-550d7c8812c4"
      },
      "execution_count": 9,
      "outputs": [
        {
          "output_type": "execute_result",
          "data": {
            "text/plain": [
              "  machine 1  machine 2  machine 3\n",
              "          1          3          2\n",
              "          4          5          6\n",
              "          8          7          0"
            ],
            "text/html": [
              "\n",
              "  <div id=\"df-d3a8d6bb-3c91-4340-addb-0d5e706f0a56\">\n",
              "    <div class=\"colab-df-container\">\n",
              "      <div>\n",
              "<style scoped>\n",
              "    .dataframe tbody tr th:only-of-type {\n",
              "        vertical-align: middle;\n",
              "    }\n",
              "\n",
              "    .dataframe tbody tr th {\n",
              "        vertical-align: top;\n",
              "    }\n",
              "\n",
              "    .dataframe thead th {\n",
              "        text-align: right;\n",
              "    }\n",
              "</style>\n",
              "<table border=\"1\" class=\"dataframe\">\n",
              "  <thead>\n",
              "    <tr style=\"text-align: right;\">\n",
              "      <th></th>\n",
              "      <th>machine 1</th>\n",
              "      <th>machine 2</th>\n",
              "      <th>machine 3</th>\n",
              "    </tr>\n",
              "  </thead>\n",
              "  <tbody>\n",
              "    <tr>\n",
              "      <th></th>\n",
              "      <td>1</td>\n",
              "      <td>3</td>\n",
              "      <td>2</td>\n",
              "    </tr>\n",
              "    <tr>\n",
              "      <th></th>\n",
              "      <td>4</td>\n",
              "      <td>5</td>\n",
              "      <td>6</td>\n",
              "    </tr>\n",
              "    <tr>\n",
              "      <th></th>\n",
              "      <td>8</td>\n",
              "      <td>7</td>\n",
              "      <td>0</td>\n",
              "    </tr>\n",
              "  </tbody>\n",
              "</table>\n",
              "</div>\n",
              "      <button class=\"colab-df-convert\" onclick=\"convertToInteractive('df-d3a8d6bb-3c91-4340-addb-0d5e706f0a56')\"\n",
              "              title=\"Convert this dataframe to an interactive table.\"\n",
              "              style=\"display:none;\">\n",
              "        \n",
              "  <svg xmlns=\"http://www.w3.org/2000/svg\" height=\"24px\"viewBox=\"0 0 24 24\"\n",
              "       width=\"24px\">\n",
              "    <path d=\"M0 0h24v24H0V0z\" fill=\"none\"/>\n",
              "    <path d=\"M18.56 5.44l.94 2.06.94-2.06 2.06-.94-2.06-.94-.94-2.06-.94 2.06-2.06.94zm-11 1L8.5 8.5l.94-2.06 2.06-.94-2.06-.94L8.5 2.5l-.94 2.06-2.06.94zm10 10l.94 2.06.94-2.06 2.06-.94-2.06-.94-.94-2.06-.94 2.06-2.06.94z\"/><path d=\"M17.41 7.96l-1.37-1.37c-.4-.4-.92-.59-1.43-.59-.52 0-1.04.2-1.43.59L10.3 9.45l-7.72 7.72c-.78.78-.78 2.05 0 2.83L4 21.41c.39.39.9.59 1.41.59.51 0 1.02-.2 1.41-.59l7.78-7.78 2.81-2.81c.8-.78.8-2.07 0-2.86zM5.41 20L4 18.59l7.72-7.72 1.47 1.35L5.41 20z\"/>\n",
              "  </svg>\n",
              "      </button>\n",
              "      \n",
              "  <style>\n",
              "    .colab-df-container {\n",
              "      display:flex;\n",
              "      flex-wrap:wrap;\n",
              "      gap: 12px;\n",
              "    }\n",
              "\n",
              "    .colab-df-convert {\n",
              "      background-color: #E8F0FE;\n",
              "      border: none;\n",
              "      border-radius: 50%;\n",
              "      cursor: pointer;\n",
              "      display: none;\n",
              "      fill: #1967D2;\n",
              "      height: 32px;\n",
              "      padding: 0 0 0 0;\n",
              "      width: 32px;\n",
              "    }\n",
              "\n",
              "    .colab-df-convert:hover {\n",
              "      background-color: #E2EBFA;\n",
              "      box-shadow: 0px 1px 2px rgba(60, 64, 67, 0.3), 0px 1px 3px 1px rgba(60, 64, 67, 0.15);\n",
              "      fill: #174EA6;\n",
              "    }\n",
              "\n",
              "    [theme=dark] .colab-df-convert {\n",
              "      background-color: #3B4455;\n",
              "      fill: #D2E3FC;\n",
              "    }\n",
              "\n",
              "    [theme=dark] .colab-df-convert:hover {\n",
              "      background-color: #434B5C;\n",
              "      box-shadow: 0px 1px 3px 1px rgba(0, 0, 0, 0.15);\n",
              "      filter: drop-shadow(0px 1px 2px rgba(0, 0, 0, 0.3));\n",
              "      fill: #FFFFFF;\n",
              "    }\n",
              "  </style>\n",
              "\n",
              "      <script>\n",
              "        const buttonEl =\n",
              "          document.querySelector('#df-d3a8d6bb-3c91-4340-addb-0d5e706f0a56 button.colab-df-convert');\n",
              "        buttonEl.style.display =\n",
              "          google.colab.kernel.accessAllowed ? 'block' : 'none';\n",
              "\n",
              "        async function convertToInteractive(key) {\n",
              "          const element = document.querySelector('#df-d3a8d6bb-3c91-4340-addb-0d5e706f0a56');\n",
              "          const dataTable =\n",
              "            await google.colab.kernel.invokeFunction('convertToInteractive',\n",
              "                                                     [key], {});\n",
              "          if (!dataTable) return;\n",
              "\n",
              "          const docLinkHtml = 'Like what you see? Visit the ' +\n",
              "            '<a target=\"_blank\" href=https://colab.research.google.com/notebooks/data_table.ipynb>data table notebook</a>'\n",
              "            + ' to learn more about interactive tables.';\n",
              "          element.innerHTML = '';\n",
              "          dataTable['output_type'] = 'display_data';\n",
              "          await google.colab.output.renderOutput(dataTable, element);\n",
              "          const docLink = document.createElement('div');\n",
              "          docLink.innerHTML = docLinkHtml;\n",
              "          element.appendChild(docLink);\n",
              "        }\n",
              "      </script>\n",
              "    </div>\n",
              "  </div>\n",
              "  "
            ]
          },
          "metadata": {},
          "execution_count": 9
        }
      ]
    },
    {
      "cell_type": "markdown",
      "source": [
        "![assignment method 1.PNG](data:image/png;base64,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)"
      ],
      "metadata": {
        "id": "wNPO0xVtWYDs"
      }
    },
    {
      "cell_type": "markdown",
      "source": [
        "The image above is a table that shows how much each machine costs to complete each request. And the problem is figuring out how to assign each request to machines so that we can complete them all effectively and efficiently.\n",
        "\n",
        "conditions that must be met:\n",
        "1. The number of machines must be equal to the number of requests.\n",
        "2. One machine can only finish one request.\n",
        "\n",
        "There is a scipy method to solve it (linear_sum_assignment)\n",
        "\n"
      ],
      "metadata": {
        "id": "MZi6unzOWlJ7"
      }
    },
    {
      "cell_type": "code",
      "source": [
        "from scipy.optimize import linear_sum_assignment\n",
        "\n",
        "arr_2 = np.array([[6, 8, 9, 3],\n",
        "                  [10, 7, 8, 13],\n",
        "                  [9, 2, 13, 15],\n",
        "                  [10, 4, 7, 8]])\n"
      ],
      "metadata": {
        "id": "oBUfpGlZWa6J"
      },
      "execution_count": 13,
      "outputs": []
    },
    {
      "cell_type": "code",
      "source": [
        "row_idx, col_idx = linear_sum_assignment(arr_2)\n"
      ],
      "metadata": {
        "id": "jfig4njPYdXj"
      },
      "execution_count": 14,
      "outputs": []
    },
    {
      "cell_type": "code",
      "source": [
        "for i, j in zip(row_idx, col_idx):\n",
        "  print(f\"request number {i + 1} must be done by machine in column number {j + 1}\")\n"
      ],
      "metadata": {
        "colab": {
          "base_uri": "https://localhost:8080/"
        },
        "id": "QY1F5-06YqQz",
        "outputId": "88aa6e42-f9de-44ac-869c-c9c6b6cf4d20"
      },
      "execution_count": 16,
      "outputs": [
        {
          "output_type": "stream",
          "name": "stdout",
          "text": [
            "request number 1 must be done by machine in column number 4\n",
            "request number 2 must be done by machine in column number 1\n",
            "request number 3 must be done by machine in column number 2\n",
            "request number 4 must be done by machine in column number 3\n"
          ]
        }
      ]
    },
    {
      "cell_type": "code",
      "source": [
        "total_cost = arr_2[row_idx, col_idx].sum()\n",
        "print(f\"Total cost is ${total_cost}\")\n"
      ],
      "metadata": {
        "colab": {
          "base_uri": "https://localhost:8080/"
        },
        "id": "zkg_qRv4ZneF",
        "outputId": "ea24bf94-8915-4ffe-878b-c004384d6139"
      },
      "execution_count": 18,
      "outputs": [
        {
          "output_type": "stream",
          "name": "stdout",
          "text": [
            "Total cost is $22\n"
          ]
        }
      ]
    },
    {
      "cell_type": "code",
      "source": [],
      "metadata": {
        "id": "aRFy_pfpZ7Cf"
      },
      "execution_count": null,
      "outputs": []
    }
  ]
}